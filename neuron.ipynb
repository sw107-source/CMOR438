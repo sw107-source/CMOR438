{
 "cells": [
  {
   "cell_type": "code",
   "execution_count": null,
   "id": "5fe0dbf0",
   "metadata": {
    "vscode": {
     "languageId": "plaintext"
    }
   },
   "outputs": [],
   "source": []
  }
 ],
 "metadata": {
  "language_info": {
   "name": "python"
  }
 },
 "nbformat": 4,
 "nbformat_minor": 5
}
